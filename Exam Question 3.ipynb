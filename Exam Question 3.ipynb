{
 "cells": [
  {
   "cell_type": "code",
   "execution_count": 8,
   "id": "06068e8b",
   "metadata": {},
   "outputs": [
    {
     "name": "stdout",
     "output_type": "stream",
     "text": [
      "(['Old boy', 'Simple', 'attenuate', 'Shy Ones', 'Toxic things', 'silent words', 'Big Daddy', 'Juvenile', 'Mothers love', 'the foxes', 'IT today'], ['The living light', 'Nigeria Election'], ['Happy', 'Brave'])\n"
     ]
    }
   ],
   "source": [
    "data=[\"The living light\",\"Happy\",\"Brave\",\"Old boy\",\"Simple\",\"attenuate\",\"Shy Ones\",\"Toxic things\",\n",
    "      \"silent words\",\"Big Daddy\",\"Juvenile\",\"Mothers love\",\"the foxes\",\"Nigeria Election\",\"IT today\"]\n",
    "def lstitems(data):\n",
    "    greater5less15=[]\n",
    "    greater15=[]\n",
    "    notdone=[]\n",
    "    \n",
    "    for lyon in data:\n",
    "        a=len(lyon)>5\n",
    "        b=len(lyon)<15\n",
    "        c=len(lyon)>15\n",
    "        if a and b:\n",
    "            greater5less15.append(lyon)\n",
    "        elif c:\n",
    "            greater15.append(lyon)\n",
    "        else:\n",
    "            notdone.append(lyon)\n",
    "    return greater5less15, greater15, notdone\n",
    "y=lstitems(data)\n",
    "print(y)"
   ]
  },
  {
   "cell_type": "code",
   "execution_count": null,
   "id": "1927050d",
   "metadata": {},
   "outputs": [],
   "source": []
  },
  {
   "cell_type": "code",
   "execution_count": null,
   "id": "0e346993",
   "metadata": {},
   "outputs": [],
   "source": []
  }
 ],
 "metadata": {
  "kernelspec": {
   "display_name": "Python 3 (ipykernel)",
   "language": "python",
   "name": "python3"
  },
  "language_info": {
   "codemirror_mode": {
    "name": "ipython",
    "version": 3
   },
   "file_extension": ".py",
   "mimetype": "text/x-python",
   "name": "python",
   "nbconvert_exporter": "python",
   "pygments_lexer": "ipython3",
   "version": "3.11.1"
  }
 },
 "nbformat": 4,
 "nbformat_minor": 5
}
