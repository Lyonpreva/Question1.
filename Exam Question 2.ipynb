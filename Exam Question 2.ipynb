{
 "cells": [
  {
   "cell_type": "code",
   "execution_count": 1,
   "id": "d157e569",
   "metadata": {},
   "outputs": [
    {
     "name": "stdout",
     "output_type": "stream",
     "text": [
      "Average Speed for travel is 46.875 km/hr\n"
     ]
    }
   ],
   "source": [
    "def avgSpeed():\n",
    "    distance_travelled_in_km = 150\n",
    "    time_spent_in_hours = 3.2\n",
    "    average_Speed = distance_travelled_in_km / time_spent_in_hours\n",
    "    return average_Speed\n",
    "x=avgSpeed()\n",
    "print ('Average Speed for travel is', x ,'km/hr')"
   ]
  },
  {
   "cell_type": "code",
   "execution_count": 3,
   "id": "81f1e696",
   "metadata": {},
   "outputs": [
    {
     "name": "stdout",
     "output_type": "stream",
     "text": [
      "Average Petrol Consumed is 9.375 km/hr\n"
     ]
    }
   ],
   "source": [
    "def avgPetrol():\n",
    "    Amount_of_Petrol_Consumed = 30\n",
    "    Time_spent_in_Hours = 3.2\n",
    "    average_Petrol = Amount_of_Petrol_Consumed / Time_spent_in_Hours\n",
    "    return average_Petrol\n",
    "y=avgPetrol()\n",
    "print('Average Petrol Consumed is', y ,'km/hr')"
   ]
  },
  {
   "cell_type": "code",
   "execution_count": null,
   "id": "35ef4569",
   "metadata": {},
   "outputs": [],
   "source": [
    "\n",
    "def noOfpoints():\n",
    "    no_of_points-noOfpoints()\n",
    "    petrol_for_travel - 30\n",
    "    points_from_20_stops = 27\n",
    "    time_of_travel_in_minutes - 192\n",
    "    time_for_1_point - time_of_travel_in_minutes / points_from_20_stops\n",
    "    average_petrol_per_min - petrol_for\n"
   ]
  },
  {
   "cell_type": "code",
   "execution_count": null,
   "id": "771c2220",
   "metadata": {},
   "outputs": [],
   "source": []
  },
  {
   "cell_type": "code",
   "execution_count": null,
   "id": "9d96e886",
   "metadata": {},
   "outputs": [],
   "source": []
  },
  {
   "cell_type": "code",
   "execution_count": null,
   "id": "7eb2cf5e",
   "metadata": {},
   "outputs": [],
   "source": []
  },
  {
   "cell_type": "code",
   "execution_count": null,
   "id": "b8c0cc82",
   "metadata": {},
   "outputs": [],
   "source": []
  },
  {
   "cell_type": "code",
   "execution_count": null,
   "id": "23489e24",
   "metadata": {},
   "outputs": [],
   "source": []
  }
 ],
 "metadata": {
  "kernelspec": {
   "display_name": "Python 3 (ipykernel)",
   "language": "python",
   "name": "python3"
  },
  "language_info": {
   "codemirror_mode": {
    "name": "ipython",
    "version": 3
   },
   "file_extension": ".py",
   "mimetype": "text/x-python",
   "name": "python",
   "nbconvert_exporter": "python",
   "pygments_lexer": "ipython3",
   "version": "3.11.1"
  }
 },
 "nbformat": 4,
 "nbformat_minor": 5
}
